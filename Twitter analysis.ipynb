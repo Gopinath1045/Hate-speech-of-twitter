{
 "cells": [
  {
   "cell_type": "code",
   "execution_count": 153,
   "id": "ee104329",
   "metadata": {},
   "outputs": [],
   "source": [
    "#import necessary librariies\n",
    "import numpy as np\n",
    "import pandas as pd\n",
    "import matplotlib.pyplot  as plt\n",
    "import seaborn as sns\n",
    "%matplotlib inline\n",
    "pd.pandas.set_option('display.max_columns',None)"
   ]
  },
  {
   "cell_type": "code",
   "execution_count": 154,
   "id": "c6875c0d",
   "metadata": {},
   "outputs": [],
   "source": [
    "df_train=pd.read_csv(\"G:/Twitter analysis/train_E6oV3lV.csv\")\n",
    "df_test=pd.read_csv(\"G:/Twitter analysis/test_tweets_anuFYb8.csv\")\n",
    "subm=pd.read_csv(\"G:/Twitter analysis/sample_submission_gfvA5FD.csv\")"
   ]
  },
  {
   "cell_type": "code",
   "execution_count": 155,
   "id": "30e15739",
   "metadata": {},
   "outputs": [
    {
     "data": {
      "text/plain": [
       "((31962, 3), (17197, 2), (17197, 2))"
      ]
     },
     "execution_count": 155,
     "metadata": {},
     "output_type": "execute_result"
    }
   ],
   "source": [
    "df_train.shape ,df_test.shape ,subm.shape"
   ]
  },
  {
   "cell_type": "code",
   "execution_count": 156,
   "id": "e96f322a",
   "metadata": {},
   "outputs": [],
   "source": [
    "#from the above data we can say , dependent variable is classified, so we apply classification algorithm"
   ]
  },
  {
   "cell_type": "code",
   "execution_count": 157,
   "id": "08813818",
   "metadata": {},
   "outputs": [
    {
     "data": {
      "text/html": [
       "<div>\n",
       "<style scoped>\n",
       "    .dataframe tbody tr th:only-of-type {\n",
       "        vertical-align: middle;\n",
       "    }\n",
       "\n",
       "    .dataframe tbody tr th {\n",
       "        vertical-align: top;\n",
       "    }\n",
       "\n",
       "    .dataframe thead th {\n",
       "        text-align: right;\n",
       "    }\n",
       "</style>\n",
       "<table border=\"1\" class=\"dataframe\">\n",
       "  <thead>\n",
       "    <tr style=\"text-align: right;\">\n",
       "      <th></th>\n",
       "      <th>id</th>\n",
       "      <th>label</th>\n",
       "      <th>tweet</th>\n",
       "    </tr>\n",
       "  </thead>\n",
       "  <tbody>\n",
       "    <tr>\n",
       "      <th>0</th>\n",
       "      <td>1</td>\n",
       "      <td>0</td>\n",
       "      <td>@user when a father is dysfunctional and is s...</td>\n",
       "    </tr>\n",
       "    <tr>\n",
       "      <th>1</th>\n",
       "      <td>2</td>\n",
       "      <td>0</td>\n",
       "      <td>@user @user thanks for #lyft credit i can't us...</td>\n",
       "    </tr>\n",
       "    <tr>\n",
       "      <th>2</th>\n",
       "      <td>3</td>\n",
       "      <td>0</td>\n",
       "      <td>bihday your majesty</td>\n",
       "    </tr>\n",
       "    <tr>\n",
       "      <th>3</th>\n",
       "      <td>4</td>\n",
       "      <td>0</td>\n",
       "      <td>#model   i love u take with u all the time in ...</td>\n",
       "    </tr>\n",
       "    <tr>\n",
       "      <th>4</th>\n",
       "      <td>5</td>\n",
       "      <td>0</td>\n",
       "      <td>factsguide: society now    #motivation</td>\n",
       "    </tr>\n",
       "  </tbody>\n",
       "</table>\n",
       "</div>"
      ],
      "text/plain": [
       "   id  label                                              tweet\n",
       "0   1      0   @user when a father is dysfunctional and is s...\n",
       "1   2      0  @user @user thanks for #lyft credit i can't us...\n",
       "2   3      0                                bihday your majesty\n",
       "3   4      0  #model   i love u take with u all the time in ...\n",
       "4   5      0             factsguide: society now    #motivation"
      ]
     },
     "execution_count": 157,
     "metadata": {},
     "output_type": "execute_result"
    }
   ],
   "source": [
    "df_train.head()"
   ]
  },
  {
   "cell_type": "code",
   "execution_count": 158,
   "id": "115855c0",
   "metadata": {},
   "outputs": [
    {
     "data": {
      "text/plain": [
       "0    29720\n",
       "1     2242\n",
       "Name: label, dtype: int64"
      ]
     },
     "execution_count": 158,
     "metadata": {},
     "output_type": "execute_result"
    }
   ],
   "source": [
    "# 0 indicates--not hate speech\n",
    "#1 hate speech\n",
    "df_train['label'].value_counts()"
   ]
  },
  {
   "cell_type": "code",
   "execution_count": 159,
   "id": "cf03436b",
   "metadata": {},
   "outputs": [],
   "source": [
    "#here we can see that dependent and independent variables\n",
    "#X(independent)--tweet\n",
    "#y(dependen)--lables"
   ]
  },
  {
   "cell_type": "code",
   "execution_count": 160,
   "id": "e7ec723a",
   "metadata": {},
   "outputs": [
    {
     "data": {
      "text/plain": [
       "id       0\n",
       "label    0\n",
       "tweet    0\n",
       "dtype: int64"
      ]
     },
     "execution_count": 160,
     "metadata": {},
     "output_type": "execute_result"
    }
   ],
   "source": [
    "df_train.isnull().sum()"
   ]
  },
  {
   "cell_type": "code",
   "execution_count": 161,
   "id": "24790eea",
   "metadata": {},
   "outputs": [
    {
     "data": {
      "text/plain": [
       "id       0\n",
       "tweet    0\n",
       "dtype: int64"
      ]
     },
     "execution_count": 161,
     "metadata": {},
     "output_type": "execute_result"
    }
   ],
   "source": [
    "df_test.isnull().sum()"
   ]
  },
  {
   "cell_type": "code",
   "execution_count": 162,
   "id": "69ce1d65",
   "metadata": {},
   "outputs": [],
   "source": [
    "X=df_train['tweet']\n",
    "y=df_train['label']"
   ]
  },
  {
   "cell_type": "code",
   "execution_count": 163,
   "id": "a3a3d247",
   "metadata": {},
   "outputs": [],
   "source": [
    "#no null values so we proceed with split the training data into 70 and 30\n",
    "from sklearn.model_selection import train_test_split\n",
    "X_train, X_test, y_train, y_test = train_test_split(X,y, test_size=0.3, random_state=0)"
   ]
  },
  {
   "cell_type": "code",
   "execution_count": 164,
   "id": "b6325754",
   "metadata": {},
   "outputs": [
    {
     "data": {
      "text/plain": [
       "((22373,), (9589,))"
      ]
     },
     "execution_count": 164,
     "metadata": {},
     "output_type": "execute_result"
    }
   ],
   "source": [
    "X_train.shape , X_test.shape"
   ]
  },
  {
   "cell_type": "code",
   "execution_count": 165,
   "id": "68e473ac",
   "metadata": {},
   "outputs": [],
   "source": [
    "#TF-IDF stands for term frequency-inverse document frequency and \n",
    "#it is a measure, used in the fields of information retrieval (IR) and machine learning, \n",
    "#First, create the object of the TFidfVectorizer, build your model and fit the model with the training data tweets"
   ]
  },
  {
   "cell_type": "code",
   "execution_count": 166,
   "id": "5d176c6c",
   "metadata": {},
   "outputs": [],
   "source": [
    "#tfidf vector\n",
    "from sklearn.feature_extraction.text import TfidfVectorizer , ENGLISH_STOP_WORDS"
   ]
  },
  {
   "cell_type": "code",
   "execution_count": 167,
   "id": "f14b8e91",
   "metadata": {},
   "outputs": [],
   "source": [
    "tfid=TfidfVectorizer(lowercase= True,ngram_range=(2,2), stop_words=ENGLISH_STOP_WORDS)"
   ]
  },
  {
   "cell_type": "code",
   "execution_count": 168,
   "id": "1e3eaac5",
   "metadata": {},
   "outputs": [
    {
     "data": {
      "text/plain": [
       "TfidfVectorizer(ngram_range=(2, 2),\n",
       "                stop_words=frozenset({'a', 'about', 'above', 'across', 'after',\n",
       "                                      'afterwards', 'again', 'against', 'all',\n",
       "                                      'almost', 'alone', 'along', 'already',\n",
       "                                      'also', 'although', 'always', 'am',\n",
       "                                      'among', 'amongst', 'amoungst', 'amount',\n",
       "                                      'an', 'and', 'another', 'any', 'anyhow',\n",
       "                                      'anyone', 'anything', 'anyway',\n",
       "                                      'anywhere', ...}))"
      ]
     },
     "execution_count": 168,
     "metadata": {},
     "output_type": "execute_result"
    }
   ],
   "source": [
    "# fit the object with the training data tweets\n",
    "tfid.fit(X_train)"
   ]
  },
  {
   "cell_type": "code",
   "execution_count": 169,
   "id": "bd5c5b65",
   "metadata": {},
   "outputs": [],
   "source": [
    "# transform the train and test data\n",
    "df_train_idf = tfid.transform(X_train)\n",
    "df_test_idf  = tfid.transform(X_test)"
   ]
  },
  {
   "cell_type": "code",
   "execution_count": 170,
   "id": "6df98f3e",
   "metadata": {},
   "outputs": [
    {
     "data": {
      "text/plain": [
       "<22373x113305 sparse matrix of type '<class 'numpy.float64'>'\n",
       "\twith 153145 stored elements in Compressed Sparse Row format>"
      ]
     },
     "execution_count": 170,
     "metadata": {},
     "output_type": "execute_result"
    }
   ],
   "source": [
    "df_train_idf"
   ]
  },
  {
   "cell_type": "code",
   "execution_count": 171,
   "id": "23e4969d",
   "metadata": {},
   "outputs": [
    {
     "data": {
      "text/plain": [
       "<9589x113305 sparse matrix of type '<class 'numpy.float64'>'\n",
       "\twith 22722 stored elements in Compressed Sparse Row format>"
      ]
     },
     "execution_count": 171,
     "metadata": {},
     "output_type": "execute_result"
    }
   ],
   "source": [
    "df_test_idf"
   ]
  },
  {
   "cell_type": "code",
   "execution_count": 172,
   "id": "46fe34d2",
   "metadata": {},
   "outputs": [],
   "source": [
    "#Use the model and transform the train and test data tweets:\n",
    "#Now, we will create an object of the Logistic Regression model\n",
    "#ur focus is not on building a very accurate classification model \n",
    "#but instead to see how we can deploy this predictive model to get the results"
   ]
  },
  {
   "cell_type": "code",
   "execution_count": 173,
   "id": "5cd7e600",
   "metadata": {},
   "outputs": [],
   "source": [
    "#1)first we apply logistic regression\n",
    "from sklearn.linear_model import LogisticRegression"
   ]
  },
  {
   "cell_type": "code",
   "execution_count": 174,
   "id": "afa63eae",
   "metadata": {},
   "outputs": [],
   "source": [
    "model=LogisticRegression()"
   ]
  },
  {
   "cell_type": "code",
   "execution_count": 175,
   "id": "25157d5f",
   "metadata": {},
   "outputs": [],
   "source": [
    "# fit the model with the training data\n",
    "model.fit(df_train_idf,y_train)\n",
    "\n",
    "# predict the label on the traning data\n",
    "predict_train = model.predict(df_train_idf)\n",
    "\n",
    "# predict the model on the test data\n",
    "predict_test = model.predict(df_test_idf)\n",
    "\n"
   ]
  },
  {
   "cell_type": "code",
   "execution_count": 176,
   "id": "758e07a2",
   "metadata": {},
   "outputs": [
    {
     "data": {
      "text/plain": [
       "(22373,)"
      ]
     },
     "execution_count": 176,
     "metadata": {},
     "output_type": "execute_result"
    }
   ],
   "source": [
    "predict_train.shape"
   ]
  },
  {
   "cell_type": "code",
   "execution_count": 177,
   "id": "fc224c93",
   "metadata": {},
   "outputs": [
    {
     "data": {
      "text/plain": [
       "(22373,)"
      ]
     },
     "execution_count": 177,
     "metadata": {},
     "output_type": "execute_result"
    }
   ],
   "source": [
    "X_train.shape"
   ]
  },
  {
   "cell_type": "code",
   "execution_count": 178,
   "id": "d44c915e",
   "metadata": {},
   "outputs": [
    {
     "data": {
      "text/plain": [
       "array([0, 0, 0, ..., 0, 0, 0], dtype=int64)"
      ]
     },
     "execution_count": 178,
     "metadata": {},
     "output_type": "execute_result"
    }
   ],
   "source": [
    "predict_test"
   ]
  },
  {
   "cell_type": "code",
   "execution_count": 179,
   "id": "80d36d2f",
   "metadata": {},
   "outputs": [],
   "source": [
    "# f1 score on train data\n",
    "from sklearn.metrics import f1_score\n",
    "f1_train=f1_score(y_train,predict_train)\n",
    "f1_test=f1_score(y_test,predict_test)"
   ]
  },
  {
   "cell_type": "code",
   "execution_count": 180,
   "id": "4fc3e910",
   "metadata": {},
   "outputs": [
    {
     "data": {
      "text/plain": [
       "0.21939058171745152"
      ]
     },
     "execution_count": 180,
     "metadata": {},
     "output_type": "execute_result"
    }
   ],
   "source": [
    "f1_train"
   ]
  },
  {
   "cell_type": "code",
   "execution_count": 181,
   "id": "0ba9fd79",
   "metadata": {},
   "outputs": [
    {
     "data": {
      "text/plain": [
       "0.20592383638928066"
      ]
     },
     "execution_count": 181,
     "metadata": {},
     "output_type": "execute_result"
    }
   ],
   "source": [
    "f1_test"
   ]
  },
  {
   "cell_type": "code",
   "execution_count": 182,
   "id": "041b1d2a",
   "metadata": {},
   "outputs": [
    {
     "name": "stdout",
     "output_type": "stream",
     "text": [
      "[[20766     0]\n",
      " [ 1409   198]]\n",
      "0.9412868912295338\n",
      "              precision    recall  f1-score   support\n",
      "\n",
      "           0       0.94      1.00      0.97      8954\n",
      "           1       0.99      0.11      0.21       635\n",
      "\n",
      "    accuracy                           0.94      9589\n",
      "   macro avg       0.96      0.56      0.59      9589\n",
      "weighted avg       0.94      0.94      0.92      9589\n",
      "\n"
     ]
    }
   ],
   "source": [
    "## Import library to check accuracy\n",
    "from sklearn.metrics import classification_report,confusion_matrix,accuracy_score\n",
    "matrix=confusion_matrix(y_train,predict_train)\n",
    "print(matrix)\n",
    "score=accuracy_score(y_test,predict_test)\n",
    "print(score)\n",
    "report=classification_report(y_test,predict_test)\n",
    "print(report)"
   ]
  },
  {
   "cell_type": "code",
   "execution_count": 183,
   "id": "2278215c",
   "metadata": {},
   "outputs": [
    {
     "data": {
      "text/plain": [
       "<AxesSubplot:>"
      ]
     },
     "execution_count": 183,
     "metadata": {},
     "output_type": "execute_result"
    },
    {
     "data": {
      "image/png": "[encoded data removed]",
      "text/plain": [
       "<Figure size 432x288 with 2 Axes>"
      ]
     },
     "metadata": {
      "needs_background": "light"
     },
     "output_type": "display_data"
    }
   ],
   "source": [
    "sns.heatmap(matrix,yticklabels=True, annot=True,fmt='d')"
   ]
  },
  {
   "cell_type": "code",
   "execution_count": 210,
   "id": "65adc967",
   "metadata": {},
   "outputs": [],
   "source": [
    "# define the stages of the pipeline\n",
    "from sklearn.pipeline import Pipeline\n",
    "pipeline = Pipeline(steps= [('tfid', TfidfVectorizer(\n",
    "                                                      max_features=1000,\n",
    "                                                      stop_words= ENGLISH_STOP_WORDS)),\n",
    "                            ('NV', MultinomialNB())])"
   ]
  },
  {
   "cell_type": "code",
   "execution_count": 211,
   "id": "3239bf4e",
   "metadata": {},
   "outputs": [
    {
     "data": {
      "text/plain": [
       "Pipeline(steps=[('tfid',\n",
       "                 TfidfVectorizer(max_features=1000,\n",
       "                                 stop_words=frozenset({'a', 'about', 'above',\n",
       "                                                       'across', 'after',\n",
       "                                                       'afterwards', 'again',\n",
       "                                                       'against', 'all',\n",
       "                                                       'almost', 'alone',\n",
       "                                                       'along', 'already',\n",
       "                                                       'also', 'although',\n",
       "                                                       'always', 'am', 'among',\n",
       "                                                       'amongst', 'amoungst',\n",
       "                                                       'amount', 'an', 'and',\n",
       "                                                       'another', 'any',\n",
       "                                                       'anyhow', 'anyone',\n",
       "                                                       'anything', 'anyway',\n",
       "                                                       'anywhere', ...}))),\n",
       "                ('NV', MultinomialNB())])"
      ]
     },
     "execution_count": 211,
     "metadata": {},
     "output_type": "execute_result"
    }
   ],
   "source": [
    "# fit the pipeline model with the training data                            \n",
    "pipeline.fit(X_train, y_train)"
   ]
  },
  {
   "cell_type": "code",
   "execution_count": null,
   "id": "7b5446f0",
   "metadata": {},
   "outputs": [],
   "source": []
  },
  {
   "cell_type": "code",
   "execution_count": 212,
   "id": "a8720325",
   "metadata": {},
   "outputs": [],
   "source": [
    "#Now, we will test the pipeline with a sample tweet"
   ]
  },
  {
   "cell_type": "code",
   "execution_count": 213,
   "id": "19b54936",
   "metadata": {},
   "outputs": [],
   "source": [
    "text = [\"good luck team india\"]"
   ]
  },
  {
   "cell_type": "code",
   "execution_count": 214,
   "id": "4c04af63",
   "metadata": {},
   "outputs": [
    {
     "data": {
      "text/plain": [
       "array([0], dtype=int64)"
      ]
     },
     "execution_count": 214,
     "metadata": {},
     "output_type": "execute_result"
    }
   ],
   "source": [
    "# predict the label using the pipeline\n",
    "pipeline.predict(text)\n",
    "# we can see the result 0 since no hated speech"
   ]
  },
  {
   "cell_type": "code",
   "execution_count": 215,
   "id": "159373ac",
   "metadata": {},
   "outputs": [
    {
     "data": {
      "text/plain": [
       "MultinomialNB()"
      ]
     },
     "execution_count": 215,
     "metadata": {},
     "output_type": "execute_result"
    }
   ],
   "source": [
    " from sklearn.naive_bayes import MultinomialNB\n",
    "NV=MultinomialNB()\n",
    "NV.fit(df_train_idf,y_train)"
   ]
  },
  {
   "cell_type": "code",
   "execution_count": 216,
   "id": "16d07763",
   "metadata": {},
   "outputs": [],
   "source": [
    "predictions = NV.predict(df_test_idf)"
   ]
  },
  {
   "cell_type": "code",
   "execution_count": 217,
   "id": "54a21f37",
   "metadata": {},
   "outputs": [
    {
     "data": {
      "text/plain": [
       "array([0, 0, 0, ..., 0, 0, 0], dtype=int64)"
      ]
     },
     "execution_count": 217,
     "metadata": {},
     "output_type": "execute_result"
    }
   ],
   "source": [
    "predictions"
   ]
  },
  {
   "cell_type": "code",
   "execution_count": 218,
   "id": "17aef556",
   "metadata": {},
   "outputs": [],
   "source": [
    "predict_train = NV.predict(df_train_idf)\n",
    "\n",
    "# predict the model on the test data\n",
    "predict_test = NV.predict(df_test_idf)"
   ]
  },
  {
   "cell_type": "code",
   "execution_count": null,
   "id": "0c79434b",
   "metadata": {},
   "outputs": [],
   "source": []
  },
  {
   "cell_type": "code",
   "execution_count": 219,
   "id": "54d5078d",
   "metadata": {},
   "outputs": [],
   "source": [
    "f1_train=f1_score(y_train,predict_train)\n",
    "f1_test=f1_score(y_test,predict_test)"
   ]
  },
  {
   "cell_type": "code",
   "execution_count": 220,
   "id": "ddf325a2",
   "metadata": {},
   "outputs": [
    {
     "data": {
      "text/plain": [
       "0.3207941483803553"
      ]
     },
     "execution_count": 220,
     "metadata": {},
     "output_type": "execute_result"
    }
   ],
   "source": [
    "f1_train"
   ]
  },
  {
   "cell_type": "code",
   "execution_count": 221,
   "id": "19b0e108",
   "metadata": {},
   "outputs": [
    {
     "data": {
      "text/plain": [
       "0.21629213483146065"
      ]
     },
     "execution_count": 221,
     "metadata": {},
     "output_type": "execute_result"
    }
   ],
   "source": [
    "f1_test"
   ]
  },
  {
   "cell_type": "code",
   "execution_count": 222,
   "id": "d23adc00",
   "metadata": {},
   "outputs": [
    {
     "name": "stdout",
     "output_type": "stream",
     "text": [
      "[[20766     0]\n",
      " [ 1300   307]]\n",
      "0.9418083220356659\n",
      "              precision    recall  f1-score   support\n",
      "\n",
      "           0       0.94      1.00      0.97      8954\n",
      "           1       1.00      0.12      0.22       635\n",
      "\n",
      "    accuracy                           0.94      9589\n",
      "   macro avg       0.97      0.56      0.59      9589\n",
      "weighted avg       0.95      0.94      0.92      9589\n",
      "\n"
     ]
    }
   ],
   "source": [
    "## Import library to check accuracy\n",
    "from sklearn.metrics import classification_report,confusion_matrix,accuracy_score\n",
    "matrix=confusion_matrix(y_train,predict_train)\n",
    "print(matrix)\n",
    "score=accuracy_score(y_test,predict_test)\n",
    "print(score)\n",
    "report=classification_report(y_test,predict_test)\n",
    "print(report)"
   ]
  },
  {
   "cell_type": "code",
   "execution_count": 223,
   "id": "4c28919a",
   "metadata": {},
   "outputs": [
    {
     "data": {
      "text/plain": [
       "<AxesSubplot:>"
      ]
     },
     "execution_count": 223,
     "metadata": {},
     "output_type": "execute_result"
    },
    {
     "data": {
      "image/png": "[encoded data removed]",
      "text/plain": [
       "<Figure size 432x288 with 2 Axes>"
      ]
     },
     "metadata": {
      "needs_background": "light"
     },
     "output_type": "display_data"
    }
   ],
   "source": [
    "sns.heatmap(matrix,yticklabels=True, annot=True,fmt='d')"
   ]
  },
  {
   "cell_type": "code",
   "execution_count": 224,
   "id": "85d590ec",
   "metadata": {},
   "outputs": [
    {
     "data": {
      "text/plain": [
       "<AxesSubplot:>"
      ]
     },
     "execution_count": 224,
     "metadata": {},
     "output_type": "execute_result"
    },
    {
     "data": {
      "image/png": "[encoded data removed]",
      "text/plain": [
       "<Figure size 432x288 with 2 Axes>"
      ]
     },
     "metadata": {
      "needs_background": "light"
     },
     "output_type": "display_data"
    }
   ],
   "source": [
    "sns.heatmap(matrix,yticklabels=True, annot=True,fmt='d')"
   ]
  },
  {
   "cell_type": "code",
   "execution_count": 225,
   "id": "f0085986",
   "metadata": {},
   "outputs": [
    {
     "data": {
      "text/plain": [
       "0        #studiolife #aislife #requires #passion #dedic...\n",
       "1         @user #white #supremacists want everyone to s...\n",
       "2        safe ways to heal your #acne!!    #altwaystohe...\n",
       "3        is the hp and the cursed child book up for res...\n",
       "4          3rd #bihday to my amazing, hilarious #nephew...\n",
       "                               ...                        \n",
       "17192    thought factory: left-right polarisation! #tru...\n",
       "17193    feeling like a mermaid ð #hairflip #neverre...\n",
       "17194    #hillary #campaigned today in #ohio((omg)) &am...\n",
       "17195    happy, at work conference: right mindset leads...\n",
       "17196    my   song \"so glad\" free download!  #shoegaze ...\n",
       "Name: tweet, Length: 17197, dtype: object"
      ]
     },
     "execution_count": 225,
     "metadata": {},
     "output_type": "execute_result"
    }
   ],
   "source": [
    "df_test.tweet"
   ]
  },
  {
   "cell_type": "code",
   "execution_count": 226,
   "id": "c1140d10",
   "metadata": {},
   "outputs": [
    {
     "data": {
      "text/plain": [
       "TfidfVectorizer(ngram_range=(2, 2),\n",
       "                stop_words=frozenset({'a', 'about', 'above', 'across', 'after',\n",
       "                                      'afterwards', 'again', 'against', 'all',\n",
       "                                      'almost', 'alone', 'along', 'already',\n",
       "                                      'also', 'although', 'always', 'am',\n",
       "                                      'among', 'amongst', 'amoungst', 'amount',\n",
       "                                      'an', 'and', 'another', 'any', 'anyhow',\n",
       "                                      'anyone', 'anything', 'anyway',\n",
       "                                      'anywhere', ...}))"
      ]
     },
     "execution_count": 226,
     "metadata": {},
     "output_type": "execute_result"
    }
   ],
   "source": [
    "tfid.fit(df_test.tweet)"
   ]
  },
  {
   "cell_type": "code",
   "execution_count": 227,
   "id": "b440a7d4",
   "metadata": {},
   "outputs": [],
   "source": [
    "df_test1_idf = tfid.transform(df_test.tweet)"
   ]
  },
  {
   "cell_type": "code",
   "execution_count": 228,
   "id": "aaad3b9f",
   "metadata": {},
   "outputs": [
    {
     "data": {
      "text/plain": [
       "<17197x89770 sparse matrix of type '<class 'numpy.float64'>'\n",
       "\twith 117568 stored elements in Compressed Sparse Row format>"
      ]
     },
     "execution_count": 228,
     "metadata": {},
     "output_type": "execute_result"
    }
   ],
   "source": [
    "df_test1_idf"
   ]
  },
  {
   "cell_type": "code",
   "execution_count": 242,
   "id": "b4426239",
   "metadata": {},
   "outputs": [],
   "source": [
    "ypred3=pipeline.predict(df_test.tweet)"
   ]
  },
  {
   "cell_type": "code",
   "execution_count": 243,
   "id": "7e0285bb",
   "metadata": {},
   "outputs": [
    {
     "data": {
      "text/plain": [
       "array([0, 0, 0, ..., 0, 0, 0], dtype=int64)"
      ]
     },
     "execution_count": 243,
     "metadata": {},
     "output_type": "execute_result"
    }
   ],
   "source": [
    "ypred3"
   ]
  },
  {
   "cell_type": "code",
   "execution_count": 244,
   "id": "044a9193",
   "metadata": {},
   "outputs": [],
   "source": [
    "dfx=pd.DataFrame(ypred3,columns=['label'])"
   ]
  },
  {
   "cell_type": "code",
   "execution_count": 245,
   "id": "cff0802b",
   "metadata": {},
   "outputs": [
    {
     "data": {
      "text/plain": [
       "label\n",
       "0        16832\n",
       "1          365\n",
       "dtype: int64"
      ]
     },
     "execution_count": 245,
     "metadata": {},
     "output_type": "execute_result"
    }
   ],
   "source": [
    "dfx.value_counts()"
   ]
  },
  {
   "cell_type": "code",
   "execution_count": 246,
   "id": "939696bb",
   "metadata": {},
   "outputs": [
    {
     "data": {
      "text/html": [
       "<div>\n",
       "<style scoped>\n",
       "    .dataframe tbody tr th:only-of-type {\n",
       "        vertical-align: middle;\n",
       "    }\n",
       "\n",
       "    .dataframe tbody tr th {\n",
       "        vertical-align: top;\n",
       "    }\n",
       "\n",
       "    .dataframe thead th {\n",
       "        text-align: right;\n",
       "    }\n",
       "</style>\n",
       "<table border=\"1\" class=\"dataframe\">\n",
       "  <thead>\n",
       "    <tr style=\"text-align: right;\">\n",
       "      <th></th>\n",
       "      <th>id</th>\n",
       "      <th>label</th>\n",
       "    </tr>\n",
       "  </thead>\n",
       "  <tbody>\n",
       "    <tr>\n",
       "      <th>0</th>\n",
       "      <td>31963</td>\n",
       "      <td>0</td>\n",
       "    </tr>\n",
       "    <tr>\n",
       "      <th>1</th>\n",
       "      <td>31964</td>\n",
       "      <td>0</td>\n",
       "    </tr>\n",
       "    <tr>\n",
       "      <th>2</th>\n",
       "      <td>31965</td>\n",
       "      <td>0</td>\n",
       "    </tr>\n",
       "    <tr>\n",
       "      <th>3</th>\n",
       "      <td>31966</td>\n",
       "      <td>0</td>\n",
       "    </tr>\n",
       "    <tr>\n",
       "      <th>4</th>\n",
       "      <td>31967</td>\n",
       "      <td>0</td>\n",
       "    </tr>\n",
       "  </tbody>\n",
       "</table>\n",
       "</div>"
      ],
      "text/plain": [
       "      id  label\n",
       "0  31963      0\n",
       "1  31964      0\n",
       "2  31965      0\n",
       "3  31966      0\n",
       "4  31967      0"
      ]
     },
     "execution_count": 246,
     "metadata": {},
     "output_type": "execute_result"
    }
   ],
   "source": [
    "subm.head()"
   ]
  },
  {
   "cell_type": "code",
   "execution_count": 247,
   "id": "57838cd0",
   "metadata": {},
   "outputs": [],
   "source": [
    "subm['label']=dfx['label']"
   ]
  },
  {
   "cell_type": "code",
   "execution_count": 248,
   "id": "148e9389",
   "metadata": {},
   "outputs": [],
   "source": [
    "\n",
    "subm.to_csv('G:/Twitter analysis/submitted.csv',index=False)"
   ]
  },
  {
   "cell_type": "code",
   "execution_count": 249,
   "id": "32b93809",
   "metadata": {},
   "outputs": [],
   "source": [
    "d=pd.read_csv('G:/Twitter analysis/submitted.csv')"
   ]
  },
  {
   "cell_type": "code",
   "execution_count": null,
   "id": "25ef0e76",
   "metadata": {},
   "outputs": [],
   "source": []
  }
 ],
 "metadata": {
  "kernelspec": {
   "display_name": "Python 3 (ipykernel)",
   "language": "python",
   "name": "python3"
  },
  "language_info": {
   "codemirror_mode": {
    "name": "ipython",
    "version": 3
   },
   "file_extension": ".py",
   "mimetype": "text/x-python",
   "name": "python",
   "nbconvert_exporter": "python",
   "pygments_lexer": "ipython3",
   "version": "3.9.7"
  }
 },
 "nbformat": 4,
 "nbformat_minor": 5
}
